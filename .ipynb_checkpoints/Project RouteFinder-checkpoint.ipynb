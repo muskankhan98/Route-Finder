{
 "cells": [
  {
   "cell_type": "code",
   "execution_count": 1,
   "metadata": {},
   "outputs": [
    {
     "name": "stdout",
     "output_type": "stream",
     "text": [
      "Python: 3.8.3 (tags/v3.8.3:6f8c832, May 13 2020, 22:20:19) [MSC v.1925 32 bit (Intel)]\n",
      "scipy: 1.5.4\n",
      "numpy: 1.19.4\n",
      "matplotlib: 3.3.3\n",
      "pandas: 1.1.4\n",
      "sklearn: 0.23.2\n"
     ]
    }
   ],
   "source": [
    "# Python version\n",
    "import sys\n",
    "print('Python: {}'.format(sys.version))\n",
    "# scipy\n",
    "import scipy\n",
    "print('scipy: {}'.format(scipy.__version__))\n",
    "# numpy\n",
    "import numpy\n",
    "print('numpy: {}'.format(numpy.__version__))\n",
    "# matplotlib\n",
    "import matplotlib\n",
    "print('matplotlib: {}'.format(matplotlib.__version__))\n",
    "# pandas\n",
    "import pandas\n",
    "print('pandas: {}'.format(pandas.__version__))\n",
    "# scikit-learn\n",
    "import sklearn\n",
    "print('sklearn: {}'.format(sklearn.__version__))"
   ]
  },
  {
   "cell_type": "code",
   "execution_count": 2,
   "metadata": {},
   "outputs": [],
   "source": [
    "#only numpy\n",
    "import numpy as np"
   ]
  },
  {
   "cell_type": "code",
   "execution_count": 3,
   "metadata": {},
   "outputs": [],
   "source": [
    "#initialising parameters\n",
    "gamma=0.75 #discounting factor\n",
    "alpha=0.9 #learning rate"
   ]
  },
  {
   "cell_type": "code",
   "execution_count": 4,
   "metadata": {},
   "outputs": [],
   "source": [
    "#define the states\n",
    "location_to_state = {\n",
    "    'Indore':0,\n",
    "    'Rajgarh':1,\n",
    "    'Dewas':2,\n",
    "    'Betul':3,\n",
    "    'Itarsi':4,\n",
    "    'Seoni':5,\n",
    "    'Shivpuri':6,\n",
    "    'Bhopal':7,\n",
    "    'Vidisha':8,\n",
    "    'Raisen':9,\n",
    "    'Sagar':10,\n",
    "    'Narsinghpur':11,\n",
    "    'Damoh':12,\n",
    "    'Jabalpur':13\n",
    "    \n",
    "}"
   ]
  },
  {
   "cell_type": "code",
   "execution_count": 5,
   "metadata": {},
   "outputs": [],
   "source": [
    "#Define the action\n",
    "actions=[0,1,2,3,4,5,6,7,8,9,10.11,12,13]"
   ]
  },
  {
   "cell_type": "code",
   "execution_count": 6,
   "metadata": {},
   "outputs": [],
   "source": [
    "#Define distance reward matrix\n",
    "#direct way =1 \n",
    "#indirect way =0\n",
    "distance=np.array([[0,1,1,1,0,0,0,0,0,0,0,0,0,0],\n",
    "                   [1,0,0,0,0,0,1,1,0,0,0,0,0,0],\n",
    "                   [1,0,0,0,0,0,0,0,1,0,0,0,0,0],\n",
    "                   [1,0,0,0,1,0,0,0,0,0,0,0,0,0],\n",
    "                   [0,0,0,1,0,0,0,1,0,0,0,0,0,0],\n",
    "                   [0,0,0,1,0,0,0,0,0,0,0,0,1,0],\n",
    "                   [0,1,0,0,0,0,0,0,0,0,1,0,0,0],\n",
    "                   [0,0,1,0,0,0,0,0,1,1,0,0,0,0],\n",
    "                   [0,0,0,0,0,0,0,1,0,0,1,0,0,0],\n",
    "                   [0,0,0,0,0,0,0,1,0,0,1,1,0,0],\n",
    "                   [0,0,0,0,0,0,0,0,0,1,0,1,0,0],\n",
    "                   [0,0,0,0,0,0,0,0,0,1,0,0,0,1],\n",
    "                   [0,0,0,0,0,0,0,0,0,0,1,0,0,1],\n",
    "                   [0,0,0,0,0,0,0,0,0,0,0,1,1,0]])\n",
    "\n",
    "#Define Road_Type reward matrix\n",
    "#National Highway =1 otherwise 0\n",
    "\n",
    "road_type=np.array([[0,1,0,1,0,0,0,0,0,0,0,0,0,0],\n",
    "                    [1,0,0,0,0,0,1,1,0,0,0,0,0,0],\n",
    "                    [1,0,0,0,0,0,0,0,1,0,0,0,0,0],\n",
    "                    [1,0,0,0,0,0,0,0,0,0,0,0,0,0],\n",
    "                    [0,1,0,1,0,0,0,1,0,0,0,0,0,0],\n",
    "                    [0,0,0,1,0,0,0,0,0,1,0,1,0,0],\n",
    "                    [0,1,0,0,0,0,0,0,0,0,1,0,0,0],\n",
    "                    [1,1,1,0,1,0,0,0,1,1,0,0,0,0],\n",
    "                    [1,0,1,1,0,0,0,1,0,0,1,0,0,0],\n",
    "                    [0,0,0,0,0,0,0,1,0,0,1,1,0,0],\n",
    "                    [1,0,0,0,0,0,1,0,1,1,0,0,1,0],\n",
    "                    [0,0,1,0,0,1,0,0,0,1,0,0,0,1],\n",
    "                    [1,0,1,1,1,1,0,0,0,0,1,0,0,1],\n",
    "                    [1,0,0,0,0,1,1,0,1,0,0,1,1,0]])\n",
    "\n",
    "#Define Safety reward matrix\n",
    "safety=  np.array([[0,1,1,1,0,0,0,0,0,0,0,0,0,0],\n",
    "                   [1,0,0,0,0,0,1,1,0,0,0,0,0,0],\n",
    "                   [1,0,0,0,0,0,0,0,1,0,0,0,0,0],\n",
    "                   [1,0,0,0,1,0,0,0,0,0,0,0,0,0],\n",
    "                   [0,0,0,1,0,0,0,1,0,0,0,0,0,0],\n",
    "                   [0,0,0,1,0,0,0,0,0,0,0,0,1,0],\n",
    "                   [0,1,0,0,0,0,0,0,0,0,1,0,0,0],\n",
    "                   [0,0,1,0,0,0,0,0,1,1,0,0,0,0],\n",
    "                   [0,0,0,0,0,0,0,1,0,0,1,0,0,0],\n",
    "                   [0,0,0,0,0,0,0,1,0,0,1,1,0,0],\n",
    "                   [0,0,0,0,0,0,0,0,0,1,0,1,0,0],\n",
    "                   [0,0,0,0,0,0,0,0,0,1,0,0,0,1],\n",
    "                   [0,0,0,0,0,0,0,0,0,0,1,0,0,1],\n",
    "                   [0,0,0,0,0,0,0,0,0,0,0,1,1,0]])\n",
    "    \n",
    " #Define Traffic reward matrix\n",
    "#High=0\n",
    "#low=1\n",
    "traffic=np.array([[0,0,1,1,0,0,0,0,0,0,0,0,0,0],\n",
    "                  [0,0,0,0,0,0,0,0,0,0,0,1,0,0],\n",
    "                  [1,0,0,0,0,0,0,0,0,0,0,1,0,0],\n",
    "                  [1,0,0,0,1,1,0,0,0,0,1,0,0,1],\n",
    "                  [0,0,0,1,0,0,0,0,0,0,0,0,0,0],\n",
    "                  [0,0,0,1,0,0,0,0,1,0,0,0,0,0],\n",
    "                  [0,0,0,0,0,0,0,0,0,0,1,0,0,1],\n",
    "                  [0,0,0,0,0,0,0,0,1,1,0,0,0,1],\n",
    "                  [0,0,0,0,0,1,0,1,0,0,1,1,1,1],\n",
    "                  [0,0,0,0,0,0,1,0,0,0,0,1,0,1],\n",
    "                  [0,0,0,1,0,0,1,0,1,0,0,0,1,0],\n",
    "                  [0,1,1,0,0,0,0,0,1,1,0,0,0,1],\n",
    "                  [0,0,0,0,0,0,0,0,1,0,1,0,0,1],\n",
    "                  [0,0,0,1,0,0,1,1,1,1,0,1,1,0]])\n",
    "\n",
    "#Define network_availability reward matrix\n",
    "#Good=1\n",
    "#Bad=0\n",
    "network=np.array([[0,1,1,0,1,1,0,1,0,0,1,0,0,1],\n",
    "                  [1,0,1,1,0,0,1,0,1,0,1,1,1,0],\n",
    "                  [1,1,0,1,1,0,0,1,0,1,0,1,0,0],\n",
    "                  [1,1,1,0,0,1,0,0,0,0,1,1,0,1],\n",
    "                  [1,0,1,0,0,0,1,1,1,0,1,0,1,1],\n",
    "                  [1,0,0,1,0,0,0,0,0,1,0,1,0,1],\n",
    "                  [1,1,0,0,1,0,0,1,1,0,1,0,0,1],\n",
    "                  [1,1,1,0,1,0,1,0,1,1,1,1,1,1],\n",
    "                  [0,1,0,0,0,1,0,1,0,0,0,1,0,0],\n",
    "                  [0,0,1,0,0,1,0,1,0,0,1,0,1,1],\n",
    "                  [1,1,0,1,1,0,1,1,0,1,0,1,1,1],\n",
    "                  [0,1,0,1,0,1,0,1,1,0,1,0,0,1],\n",
    "                  [0,1,0,0,1,1,0,1,0,1,1,0,0,1],\n",
    "                  [1,0,0,1,1,1,1,1,0,1,1,1,1,0]])\n",
    "\n",
    "#Define Diversion_in_road reward matrix\n",
    "#More than and equal to 2 = 1 otherwise 0\n",
    "\n",
    "diversion=np.array([[0,1,0,1,0,1,1,1,1,1,1,1,1,1],\n",
    "                    [1,0,0,1,1,1,0,0,1,1,1,1,1,1],\n",
    "                    [0,1,0,1,1,1,1,0,1,1,1,1,1,1],\n",
    "                    [0,1,1,0,0,0,1,1,1,1,1,1,1,1],\n",
    "                    [1,1,1,0,0,1,1,0,1,1,1,1,1,1],\n",
    "                    [1,1,1,0,1,0,1,1,1,1,1,0,1,1],\n",
    "                    [1,0,1,1,1,1,0,1,1,1,0,1,1,1],\n",
    "                    [1,0,0,1,0,1,1,0,0,0,1,1,1,1],\n",
    "                    [1,1,1,1,1,1,1,0,0,1,0,1,1,1],\n",
    "                    [1,1,1,1,1,1,1,1,0,0,0,0,0,1],\n",
    "                    [1,1,1,1,1,1,1,1,0,0,0,1,0,1],\n",
    "                    [1,1,1,1,1,0,1,1,1,0,1,0,1,0],\n",
    "                    [1,1,1,1,1,1,1,1,1,1,0,1,0,0],\n",
    "                    [1,1,1,1,1,1,1,1,1,1,1,0,0,0]])"
   ]
  },
  {
   "cell_type": "code",
   "execution_count": 7,
   "metadata": {},
   "outputs": [],
   "source": [
    "#Arrays for reward calculations\n",
    "reward1=np.zeros((14,14))\n",
    "reward2=np.zeros((14,14))\n",
    "arr=np.zeros((14,14))"
   ]
  },
  {
   "cell_type": "code",
   "execution_count": 8,
   "metadata": {},
   "outputs": [],
   "source": [
    "#Condition for preparing final reward matrix\n",
    "reward1=np.logical_or(distance,road_type)\n",
    "reward2=np.logical_or(traffic,np.logical_or(network,diversion))\n",
    "arr=np.logical_or(safety,np.logical_and(reward1,reward2))"
   ]
  },
  {
   "cell_type": "code",
   "execution_count": 9,
   "metadata": {},
   "outputs": [],
   "source": [
    "#final reward matrix\n",
    "rewards=np.zeros((14,14),dtype=int)"
   ]
  },
  {
   "cell_type": "code",
   "execution_count": 10,
   "metadata": {},
   "outputs": [
    {
     "name": "stdout",
     "output_type": "stream",
     "text": [
      "[[False  True  True  True False False False False False False False False\n",
      "  False False]\n",
      " [ True False False False False False  True  True False False False False\n",
      "  False False]\n",
      " [ True False False False False False False False  True False False False\n",
      "  False False]\n",
      " [ True False False False  True False False False False False False False\n",
      "  False False]\n",
      " [False  True False  True False False False  True False False False False\n",
      "  False False]\n",
      " [False False False  True False False False False False  True False  True\n",
      "   True False]\n",
      " [False  True False False False False False False False False  True False\n",
      "  False False]\n",
      " [ True  True  True False  True False False False  True  True False False\n",
      "  False False]\n",
      " [ True False  True  True False False False  True False False  True False\n",
      "  False False]\n",
      " [False False False False False False False  True False False  True  True\n",
      "  False False]\n",
      " [ True False False False False False  True False  True  True False  True\n",
      "   True False]\n",
      " [False False  True False False  True False False False  True False False\n",
      "  False  True]\n",
      " [ True False  True  True  True  True False False False False  True False\n",
      "  False  True]\n",
      " [ True False False False False  True  True False  True False False  True\n",
      "   True False]]\n"
     ]
    }
   ],
   "source": [
    "print(arr)"
   ]
  },
  {
   "cell_type": "code",
   "execution_count": 11,
   "metadata": {},
   "outputs": [],
   "source": [
    "#for converting boolean outcome to 0 and 1 form\n",
    "for i in range(14):\n",
    "    for j in range(14):\n",
    "         if arr[i][j] == True:\n",
    "            rewards[i][j]=1\n",
    "         elif arr[i][j] == False:\n",
    "            rewards[i][j]=0"
   ]
  },
  {
   "cell_type": "code",
   "execution_count": 12,
   "metadata": {},
   "outputs": [
    {
     "name": "stdout",
     "output_type": "stream",
     "text": [
      "[[0 1 1 1 0 0 0 0 0 0 0 0 0 0]\n",
      " [1 0 0 0 0 0 1 1 0 0 0 0 0 0]\n",
      " [1 0 0 0 0 0 0 0 1 0 0 0 0 0]\n",
      " [1 0 0 0 1 0 0 0 0 0 0 0 0 0]\n",
      " [0 1 0 1 0 0 0 1 0 0 0 0 0 0]\n",
      " [0 0 0 1 0 0 0 0 0 1 0 1 1 0]\n",
      " [0 1 0 0 0 0 0 0 0 0 1 0 0 0]\n",
      " [1 1 1 0 1 0 0 0 1 1 0 0 0 0]\n",
      " [1 0 1 1 0 0 0 1 0 0 1 0 0 0]\n",
      " [0 0 0 0 0 0 0 1 0 0 1 1 0 0]\n",
      " [1 0 0 0 0 0 1 0 1 1 0 1 1 0]\n",
      " [0 0 1 0 0 1 0 0 0 1 0 0 0 1]\n",
      " [1 0 1 1 1 1 0 0 0 0 1 0 0 1]\n",
      " [1 0 0 0 0 1 1 0 1 0 0 1 1 0]]\n"
     ]
    }
   ],
   "source": [
    "print(rewards)"
   ]
  },
  {
   "cell_type": "code",
   "execution_count": 13,
   "metadata": {},
   "outputs": [],
   "source": [
    "#Map indicated to locations\n",
    "state_to_location= dict((state,location) for location, state in location_to_state.items( ))"
   ]
  },
  {
   "cell_type": "code",
   "execution_count": 14,
   "metadata": {},
   "outputs": [],
   "source": [
    "def get_optimal_route(start_location,end_location):\n",
    "    rewards_new = np.copy(rewards)\n",
    "    ending_state = location_to_state[end_location]\n",
    "    rewards_new[ending_state,ending_state] = 999\n",
    " \n",
    "    Q = np.array(np.zeros([14,14]))\n",
    " \n",
    "    # Q-Learning process\n",
    "    for i in range(1000):\n",
    "        # Picking up a random state\n",
    "        current_state = np.random.randint(0,14) # Python excludes the upper bound\n",
    "        playable_actions = []\n",
    "        # Iterating through the new rewards matrix\n",
    "        for j in range(14):\n",
    "            if rewards_new[current_state,j] > 0:\n",
    "                playable_actions.append(j)\n",
    "        # Pick a random action that will lead us to next state\n",
    "        next_state = np.random.choice(playable_actions)\n",
    "        # Computing Temporal Difference\n",
    "        TD = rewards_new[current_state,next_state] + gamma * Q[next_state, np.argmax(Q[next_state,])] - Q[current_state,next_state]\n",
    "        # Updating the Q-Value using the Bellman equation\n",
    "        Q[current_state,next_state] += alpha * TD\n",
    " \n",
    "    # Initialize the optimal route with the starting location\n",
    "    route = [start_location]\n",
    "    #Initialize next_location with starting location\n",
    "    next_location = start_location\n",
    " \n",
    "    # We don't know about the exact number of iterations needed to reach to the final location hence while loop will be a good choice for iteratiing\n",
    "    while(next_location != end_location):\n",
    "        # Fetch the starting state\n",
    "        starting_state = location_to_state[start_location]\n",
    "        # Fetch the highest Q-value pertaining to starting state\n",
    "        next_state = np.argmax(Q[starting_state,])\n",
    "        # We got the index of the next state. But we need the corresponding letter.\n",
    "        next_location = state_to_location[next_state]\n",
    "        route.append(next_location)\n",
    "        # Update the starting location for the next iteration\n",
    "        start_location = next_location\n",
    " \n",
    "    return route"
   ]
  },
  {
   "cell_type": "code",
   "execution_count": 15,
   "metadata": {},
   "outputs": [
    {
     "name": "stdout",
     "output_type": "stream",
     "text": [
      "['Indore', 'Dewas', 'Vidisha', 'Sagar', 'Damoh', 'Jabalpur']\n"
     ]
    }
   ],
   "source": [
    "print(get_optimal_route( 'Indore', 'Jabalpur'))"
   ]
  },
  {
   "cell_type": "code",
   "execution_count": 16,
   "metadata": {},
   "outputs": [
    {
     "name": "stdout",
     "output_type": "stream",
     "text": [
      "['Rajgarh', 'Bhopal', 'Raisen', 'Narsinghpur']\n"
     ]
    }
   ],
   "source": [
    "print(get_optimal_route('Rajgarh', 'Narsinghpur'))"
   ]
  },
  {
   "cell_type": "code",
   "execution_count": 17,
   "metadata": {},
   "outputs": [
    {
     "name": "stdout",
     "output_type": "stream",
     "text": [
      "['Dewas', 'Vidisha']\n"
     ]
    }
   ],
   "source": [
    "print(get_optimal_route( 'Dewas', 'Vidisha'))"
   ]
  },
  {
   "cell_type": "code",
   "execution_count": 18,
   "metadata": {},
   "outputs": [
    {
     "name": "stdout",
     "output_type": "stream",
     "text": [
      "['Betul', 'Indore', 'Dewas', 'Vidisha']\n"
     ]
    }
   ],
   "source": [
    "print(get_optimal_route(  'Betul', 'Vidisha'))"
   ]
  },
  {
   "cell_type": "code",
   "execution_count": 19,
   "metadata": {},
   "outputs": [
    {
     "name": "stdout",
     "output_type": "stream",
     "text": [
      "['Rajgarh', 'Shivpuri', 'Sagar', 'Narsinghpur']\n"
     ]
    }
   ],
   "source": [
    "print(get_optimal_route('Rajgarh', 'Narsinghpur'))"
   ]
  },
  {
   "cell_type": "code",
   "execution_count": null,
   "metadata": {},
   "outputs": [],
   "source": []
  }
 ],
 "metadata": {
  "kernelspec": {
   "display_name": "Python 3",
   "language": "python",
   "name": "python3"
  },
  "language_info": {
   "codemirror_mode": {
    "name": "ipython",
    "version": 3
   },
   "file_extension": ".py",
   "mimetype": "text/x-python",
   "name": "python",
   "nbconvert_exporter": "python",
   "pygments_lexer": "ipython3",
   "version": "3.9.0"
  }
 },
 "nbformat": 4,
 "nbformat_minor": 4
}
